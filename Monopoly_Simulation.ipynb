{
  "nbformat": 4,
  "nbformat_minor": 0,
  "metadata": {
    "colab": {
      "name": "Monopoly_Simulation.ipynb",
      "provenance": [],
      "authorship_tag": "ABX9TyMPUOiKVST7WXcWl4RVOEp7",
      "include_colab_link": true
    },
    "kernelspec": {
      "name": "python3",
      "display_name": "Python 3"
    },
    "language_info": {
      "name": "python"
    }
  },
  "cells": [
    {
      "cell_type": "markdown",
      "metadata": {
        "id": "view-in-github",
        "colab_type": "text"
      },
      "source": [
        "<a href=\"https://colab.research.google.com/github/lucalila/comp_creativity/blob/develop/Monopoly_Simulation.ipynb\" target=\"_parent\"><img src=\"https://colab.research.google.com/assets/colab-badge.svg\" alt=\"Open In Colab\"/></a>"
      ]
    },
    {
      "cell_type": "markdown",
      "source": [
        "Structure:\n",
        "\n",
        "- Map\n",
        "1. Interface for buying, passing by... Or text output in console?\n",
        "2. Class for Grids (property/chance/stop/tax...) in the map \n",
        "  \n",
        "  Attibutes: \n",
        "  \n",
        "  chance or not -> dict of action texts \n",
        "  \n",
        "  stop or not -> True for stop one time\n",
        "\n",
        "  money -> gain or pay out\n",
        "\n",
        "  for properties -> name, price, owner, rent\n",
        "\n",
        "  *problem: our map is not fixed, which means for each theme we schould generate a new map -> pic generator needed?*\n",
        "\n",
        "\n",
        "- Player\n",
        "\n",
        "  Class for Players\n",
        "\n",
        "  Attributes:\n",
        "\n",
        "  name, location(\"über los\"), money, conditon(stop or not)\n",
        "\n",
        "- Dice\n",
        "1. Choice: random int in console\n",
        "2. Choice: random pictures with different points -> function needed\n",
        "\n",
        "- Implement of movements:\n",
        "\n",
        "  location of player corresponding the coordinate of the grids\n",
        "\n",
        "  Implement per Pygame\n",
        "\n"
      ],
      "metadata": {
        "id": "YDIiHJJfsXcX"
      }
    },
    {
      "cell_type": "markdown",
      "source": [
        "Thoughts of actions texts:\n",
        "- types:\n",
        "  money gain or pay (for a reason) & go forward/backward (to *placename*/ * Steps)\n",
        "\n",
        "- how to recreate our texts\n",
        "  for movement: replace *placename* with ours\n",
        "  for payment: reason,(currency) needed\n",
        "\n",
        "  -> how to creat a reason? Maybe refer to the Episodes description in Wiki, but difficult to find the appropriate words or phrases\n",
        "\n",
        "- Or shall we use the xls File that Philipp recommended?\n",
        "\n",
        "  many dimendions(politics, literature, disney, DC, Hollywood, etc.)\n",
        "  \n",
        "  character -> player, pics of the character -> figure of player\n",
        "\n",
        "  Nagetive & positive talking points -> sentence making(maybe still key to sentence) -> action texts: money pay or gain\n",
        "\n",
        "  *Problems: only adjctives for personalities*\n",
        "\n",
        "\n"
      ],
      "metadata": {
        "id": "XS4sHF4Tnrut"
      }
    },
    {
      "cell_type": "code",
      "source": [
        ""
      ],
      "metadata": {
        "id": "sGVYFQAhri2X"
      },
      "execution_count": null,
      "outputs": []
    }
  ]
}