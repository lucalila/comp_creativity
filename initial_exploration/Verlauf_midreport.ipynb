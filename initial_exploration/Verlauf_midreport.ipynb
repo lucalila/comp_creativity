{
  "nbformat": 4,
  "nbformat_minor": 0,
  "metadata": {
    "colab": {
      "name": "Monopoly_Simulation.ipynb",
      "provenance": [],
      "authorship_tag": "ABX9TyP29pS9t9oyMwEurPcZ4GD6",
      "include_colab_link": true
    },
    "kernelspec": {
      "name": "python3",
      "display_name": "Python 3"
    },
    "language_info": {
      "name": "python"
    }
  },
  "cells": [
    {
      "cell_type": "markdown",
      "metadata": {
        "id": "view-in-github",
        "colab_type": "text"
      },
      "source": [
        "<a href=\"https://colab.research.google.com/github/lucalila/comp_creativity/blob/develop/Verlauf_midreport.ipynb\" target=\"_parent\"><img src=\"https://colab.research.google.com/assets/colab-badge.svg\" alt=\"Open In Colab\"/></a>"
      ]
    },
    {
      "cell_type": "markdown",
      "source": [
        "Verlauf:\n",
        "\n",
        "- Map/ Karte (Bildergenerator mithilfe von PIL)\n",
        "\n",
        "  zentrale Idee: 'über los' -> Thema wechseln -> neue Karte\n",
        "\n",
        "  grundlegende Struktur unverändert bleiben (Koordinate)\n",
        "\n",
        "  *ein Bild in der Mitter der Karte hinzufügen*\n",
        "\n",
        "- Class for Grids (property/chance/stop/tax...) in the map \n",
        "  \n",
        "  Attibutes: \n",
        "  \n",
        "  chance or not -> random.choice(dict of action texts)\n",
        "  \n",
        "  stop or not -> True für einmaliges Stop \n",
        "\n",
        "  for properties -> name, price, owner, rent\n",
        "\n",
        "\n",
        "- Class for Players\n",
        "\n",
        "  Attributes:\n",
        "\n",
        "  name, location, round(\"über los\"), money, pause\n",
        "\n",
        "  *Figur: sich mit dem Thema gleichzeitig ändern*\n",
        "\n",
        "- Dice/ Wurfel\n",
        "\n",
        "  random.randint(1,6)\n",
        "\n",
        "  menschliche Steuerung gebraucht -> interaktiv\n",
        "\n",
        "\n",
        "- Funktionen, um Regeln zu implementieren\n",
        "1. move(): Augenzahl -> location von Player ändern -> 'über los'\n",
        "\n",
        "2. pass_by(): aktueller Ort erkennen\n",
        "\n",
        "  Property: rent\n",
        "\n",
        "  Chance: ein Aktionstext ausgewählt -> sentiment Analyse -> Aktion erkennen\n",
        "\n",
        "  Stop: Gefängnis, Parkplatz -> pause \n",
        "\n",
        "3. print_message(): Textnachrichten auf dem Bildschirm drucken\n",
        "\n",
        "Visualisierung: Pygame"
      ],
      "metadata": {
        "id": "YDIiHJJfsXcX"
      }
    },
    {
      "cell_type": "code",
      "source": [
        ""
      ],
      "metadata": {
        "id": "aSufaykoDPVT"
      },
      "execution_count": null,
      "outputs": []
    }
  ]
}